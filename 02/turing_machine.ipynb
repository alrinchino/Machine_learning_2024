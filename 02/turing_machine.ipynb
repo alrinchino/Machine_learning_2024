{
 "cells": [
  {
   "cell_type": "markdown",
   "id": "tutorial-retro",
   "metadata": {},
   "source": [
    "3 3 8\n",
    "\n",
    "0 N 3  1 R 1  0 L 2\n",
    "\n",
    "1 N 3  0 R 1  1 L 2\n",
    "\n",
    "2 R 1  2 L 2  2 N 3\n",
    "\n",
    "2 0 1 0 1 0 1 2\n"
   ]
  },
  {
   "cell_type": "code",
   "execution_count": 4,
   "id": "brown-wedding",
   "metadata": {},
   "outputs": [],
   "source": [
    "state_machine = \\\n",
    "[\n",
    "    [(0, 0, 3), (1, 1, 1), (0, 2, 2)],\n",
    "    [(1, 0, 3), (0, 1, 1), (1, 2, 2)],\n",
    "    [(2, 1, 1), (2, 2, 2), (2, 0, 3)]\n",
    "]"
   ]
  },
  {
   "cell_type": "code",
   "execution_count": 5,
   "id": "pregnant-planning",
   "metadata": {},
   "outputs": [
    {
     "data": {
      "text/plain": [
       "(2, 1, 1)"
      ]
     },
     "execution_count": 5,
     "metadata": {},
     "output_type": "execute_result"
    }
   ],
   "source": [
    "ans, shift, new_state = state_machine[2][0]"
   ]
  },
  {
   "cell_type": "code",
   "execution_count": 6,
   "id": "gentle-dispatch",
   "metadata": {},
   "outputs": [
    {
     "data": {
      "text/plain": [
       "(1, 1, 1)"
      ]
     },
     "execution_count": 6,
     "metadata": {},
     "output_type": "execute_result"
    }
   ],
   "source": [
    "state_machine[0][1]"
   ]
  },
  {
   "cell_type": "code",
   "execution_count": 7,
   "id": "grand-inspector",
   "metadata": {},
   "outputs": [
    {
     "data": {
      "text/plain": [
       "(0, 1, 1)"
      ]
     },
     "execution_count": 7,
     "metadata": {},
     "output_type": "execute_result"
    }
   ],
   "source": [
    "state_machine[1][1]"
   ]
  },
  {
   "cell_type": "code",
   "execution_count": 8,
   "id": "incident-latter",
   "metadata": {},
   "outputs": [
    {
     "data": {
      "text/plain": [
       "(2, 2, 2)"
      ]
     },
     "execution_count": 8,
     "metadata": {},
     "output_type": "execute_result"
    }
   ],
   "source": [
    "state_machine[2][1]"
   ]
  },
  {
   "cell_type": "code",
   "execution_count": null,
   "id": "creative-garage",
   "metadata": {},
   "outputs": [],
   "source": []
  }
 ],
 "metadata": {
  "kernelspec": {
   "display_name": "Python 3",
   "language": "python",
   "name": "python3"
  },
  "language_info": {
   "codemirror_mode": {
    "name": "ipython",
    "version": 3
   },
   "file_extension": ".py",
   "mimetype": "text/x-python",
   "name": "python",
   "nbconvert_exporter": "python",
   "pygments_lexer": "ipython3",
   "version": "3.7.4"
  }
 },
 "nbformat": 4,
 "nbformat_minor": 5
}
