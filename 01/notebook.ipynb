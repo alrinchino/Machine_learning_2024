{
 "cells": [
  {
   "cell_type": "code",
   "execution_count": 1,
   "id": "5ed4dcc8",
   "metadata": {},
   "outputs": [],
   "source": [
    "import pandas as pd\n",
    "import numpy as np"
   ]
  },
  {
   "cell_type": "code",
   "execution_count": 2,
   "id": "8f7ef2d5",
   "metadata": {},
   "outputs": [],
   "source": [
    "with open('data.txt') as f:\n",
    "    lines = f.readlines()"
   ]
  },
  {
   "cell_type": "code",
   "execution_count": 5,
   "id": "cb57f226",
   "metadata": {},
   "outputs": [],
   "source": [
    "import re"
   ]
  },
  {
   "cell_type": "code",
   "execution_count": 21,
   "id": "38b302da",
   "metadata": {},
   "outputs": [],
   "source": [
    "data = re.sub(r\"[\\([{})\\]]\",\"\",lines[0])"
   ]
  },
  {
   "cell_type": "code",
   "execution_count": 24,
   "id": "e8d8d015",
   "metadata": {},
   "outputs": [],
   "source": [
    "data = re.sub(r'[,;]',' ',data)"
   ]
  },
  {
   "cell_type": "code",
   "execution_count": 33,
   "id": "4334b861",
   "metadata": {},
   "outputs": [],
   "source": [
    "df = pd.DataFrame(np.array(data.split()).reshape(287, 2))"
   ]
  },
  {
   "cell_type": "code",
   "execution_count": 37,
   "id": "21ce4abb",
   "metadata": {},
   "outputs": [],
   "source": [
    "df.to_csv('data.csv', header=None)"
   ]
  },
  {
   "cell_type": "code",
   "execution_count": null,
   "id": "11401b2d",
   "metadata": {},
   "outputs": [],
   "source": []
  }
 ],
 "metadata": {
  "kernelspec": {
   "display_name": "Python 3 (ipykernel)",
   "language": "python",
   "name": "python3"
  },
  "language_info": {
   "codemirror_mode": {
    "name": "ipython",
    "version": 3
   },
   "file_extension": ".py",
   "mimetype": "text/x-python",
   "name": "python",
   "nbconvert_exporter": "python",
   "pygments_lexer": "ipython3",
   "version": "3.10.10"
  }
 },
 "nbformat": 4,
 "nbformat_minor": 5
}
